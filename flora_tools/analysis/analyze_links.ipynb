{
 "cells": [
  {
   "cell_type": "code",
   "execution_count": 1,
   "metadata": {},
   "outputs": [],
   "source": [
    "%load_ext autoreload"
   ]
  },
  {
   "cell_type": "code",
   "execution_count": 2,
   "metadata": {},
   "outputs": [],
   "source": [
    "%matplotlib inline"
   ]
  },
  {
   "cell_type": "code",
   "execution_count": 15,
   "metadata": {},
   "outputs": [],
   "source": [
    "%autoreload"
   ]
  },
  {
   "cell_type": "code",
   "execution_count": 4,
   "metadata": {},
   "outputs": [],
   "source": [
    "import os\n",
    "import sys\n",
    "nb_dir = os.path.split(os.getcwd())[0]\n",
    "if nb_dir not in sys.path:\n",
    "    sys.path.append(nb_dir)"
   ]
  },
  {
   "cell_type": "code",
   "execution_count": 5,
   "metadata": {
    "scrolled": true
   },
   "outputs": [
    {
     "name": "stdout",
     "output_type": "stream",
     "text": [
      "# lines to process: 50336\n",
      "0,1000,4000,5000,7000,8000,10000,11000,12000,13000,14000,15000,16000,18000,19000,20000,22000,23000,24000,25000,27000,28000,30000,31000,33000,34000,35000,36000,37000,39000,40000,41000,42000,43000,44000,45000,46000,49000,50000,"
     ]
    }
   ],
   "source": [
    "import pandas as pd\n",
    "from flora_tools.flocklab.measure_links import MeasureLinksExperiment, ITERATIONS\n",
    "from flora_tools.flocklab.flocklab import FlockLab\n",
    "\n",
    "\n",
    "logs = FlockLab.parse_serial_log(\"../../data/serial.csv\")"
   ]
  },
  {
   "cell_type": "code",
   "execution_count": 190,
   "metadata": {},
   "outputs": [],
   "source": [
    "%autoreload"
   ]
  },
  {
   "cell_type": "code",
   "execution_count": 291,
   "metadata": {},
   "outputs": [
    {
     "name": "stdout",
     "output_type": "stream",
     "text": [
      "7300@1,7600@1,7900@1,41700@1,42000@1,42300@1,42600@1,42900@1,43200@1,43300@1,43600@1,3300@3,3500@3,3600@3,3800@3,4000@3,27000@3,27200@3,27300@3,27600@3,28000@3,28100@3,28300@3,28500@3,28800@3,12000@4,12200@4,12300@4,12600@4,24500@4,24700@4,24900@4,25100@4,25200@4,25600@4,26500@4,26600@4,6100@8,6800@8,7000@8,18700@8,18800@8,19000@8,19200@8,19400@8,19600@8,19800@8,20000@8,20200@8,20400@8,20500@8,13800@10,14100@10,14200@10,14400@10,16500@10,17600@10,17900@10,18000@10,18100@10,8900@13,9200@13,9300@13,9400@13,9600@13,9800@13,37900@13,38800@13,38900@13,39000@13,1000@15,1100@15,1200@15,1400@15,1600@15,1900@15,43800@15,44000@15,44200@15,44500@15,44900@15,45000@15,45100@15,45200@15,45300@15,45600@15,45700@15,45900@15,10100@20,10200@20,39700@20,39800@20,40200@20,40300@20,40400@20,41000@20,41100@20,41200@20,41400@20,10900@22,11000@22,48200@22,48500@22,48600@22,48700@22,48800@22,48900@22,49000@22,49100@22,49400@22,49500@22,49600@22,49700@22,49900@22,50000@22,50200@22,13200@23,13300@23,13600@23,33500@23,33600@23,33700@23,34300@23,34500@23,34600@23,34800@23,35000@23,35100@23,4100@24,4200@24,4300@24,4400@24,4500@24,4600@24,4700@24,22300@24,22500@24,22800@24,23200@24,23300@24,23500@24,23600@24,23700@24,23800@24,23900@24,24200@24,0@25,600@25,700@25,800@25,900@25,31200@25,31600@25,32200@25,32600@25,32800@25,32900@25,33000@25,33100@25,8000@26,8200@26,8300@26,8500@26,46000@26,46500@26,46700@26,47100@26,47400@26,47700@26,47900@26,35200@28,35300@28,35700@28,35800@28,35900@28,36000@28,36100@28,36500@28,36700@28,36900@28,37100@28,37300@28,14800@32,15100@32,15200@32,15300@32,15400@32,15500@32,15700@32,15800@32,15900@32,16100@32,20600@32,21400@32,21700@32,21900@32,22000@32,22100@32,5000@33,5100@33,5200@33,5400@33,5500@33,5800@33,5900@33,29400@33,29600@33,29700@33,30000@33,30100@33,30500@33,30700@33,30900@33,31000@33,"
     ]
    }
   ],
   "source": [
    "links = MeasureLinksExperiment.reconstruct_receptions(logs, \"../../data/receptions.csv\")"
   ]
  },
  {
   "cell_type": "code",
   "execution_count": 292,
   "metadata": {},
   "outputs": [],
   "source": [
    "grouped = links.groupby(['tx_node', 'rx_node', 'modulation', 'preamble', 'power'])"
   ]
  },
  {
   "cell_type": "code",
   "execution_count": 316,
   "metadata": {},
   "outputs": [],
   "source": [
    "%autoreload"
   ]
  },
  {
   "cell_type": "code",
   "execution_count": 317,
   "metadata": {
    "scrolled": false
   },
   "outputs": [
    {
     "data": {
      "application/vnd.jupyter.widget-view+json": {
       "model_id": "0c58912b7363497eb5c69462473d7a80",
       "version_major": 2,
       "version_minor": 0
      },
      "text/plain": [
       "interactive(children=(Dropdown(description='tx_node', options=(1, 3, 4, 8, 10, 13, 15, 20, 22, 23, 24, 25, 26,…"
      ]
     },
     "metadata": {},
     "output_type": "display_data"
    }
   ],
   "source": [
    "import matplotlib.pyplot as plt\n",
    "from ipywidgets import interact, interactive, fixed, interact_manual, FloatSlider\n",
    "import ipywidgets as widgets\n",
    "\n",
    "from flora_tools.radio_configuration import RadioConfiguration\n",
    "\n",
    "from flora_tools.flocklab.measure_links import POWERS, PREAMBLES, FLOCKLAB_TARGET_ID_LIST, ITERATIONS\n",
    "from flora_tools.lwb_slot import RADIO_MODULATIONS\n",
    "\n",
    "#RADIO_MODULATIONS = [3, 5, 7, 9]\n",
    "#POWERS = [0, 10, 22]\n",
    "#PREAMBLES = [2, 3, 4, 6, 8, 10, 12]\n",
    "\n",
    "NODE_OPTIONS = list(FLOCKLAB_TARGET_ID_LIST)\n",
    "NODE_OPTIONS.append('all')\n",
    "\n",
    "@interact(tx_node=NODE_OPTIONS, \n",
    "          modulation=(0, len(RADIO_MODULATIONS) - 1), \n",
    "          power=(0, len(POWERS) - 1), \n",
    "          preamble=(0, len(PREAMBLES) - 1), \n",
    "          percentage=FloatSlider(min=0, max=100.0, step=1.0, continuous_update=False))\n",
    "def g(tx_node, modulation=1, power=2, preamble=2, percentage=100.0):\n",
    "    modulation = RADIO_MODULATIONS[modulation]\n",
    "    power = POWERS[power]\n",
    "    preamble = PREAMBLES[preamble]\n",
    "    \n",
    "    config = RadioConfiguration(modulation)\n",
    "    \n",
    "    subset = links[(links.modulation == modulation) & (links.power == power) & (links.preamble == preamble)]\n",
    "    \n",
    "    figure = plt.figure(figsize=[24,15])\n",
    "    plt.title(\"{}, {:d}dBm, {} preamble symbols\".format(config.modulation_name, power, preamble))\n",
    "    \n",
    "    MeasureLinksExperiment.draw_links(subset, tx_node=tx_node, percentage=percentage, iterations=ITERATIONS)\n"
   ]
  },
  {
   "cell_type": "code",
   "execution_count": null,
   "metadata": {},
   "outputs": [],
   "source": [
    "\n"
   ]
  },
  {
   "cell_type": "code",
   "execution_count": null,
   "metadata": {},
   "outputs": [],
   "source": []
  }
 ],
 "metadata": {
  "kernelspec": {
   "display_name": "Python 3",
   "language": "python",
   "name": "python3"
  },
  "language_info": {
   "codemirror_mode": {
    "name": "ipython",
    "version": 3
   },
   "file_extension": ".py",
   "mimetype": "text/x-python",
   "name": "python",
   "nbconvert_exporter": "python",
   "pygments_lexer": "ipython3",
   "version": "3.7.0"
  }
 },
 "nbformat": 4,
 "nbformat_minor": 1
}
