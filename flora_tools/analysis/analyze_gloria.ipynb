{
 "cells": [
  {
   "cell_type": "code",
   "execution_count": 1,
   "metadata": {},
   "outputs": [],
   "source": [
    "%load_ext autoreload"
   ]
  },
  {
   "cell_type": "code",
   "execution_count": 2,
   "metadata": {},
   "outputs": [],
   "source": [
    "%matplotlib inline"
   ]
  },
  {
   "cell_type": "code",
   "execution_count": 3,
   "metadata": {},
   "outputs": [],
   "source": [
    "%autoreload"
   ]
  },
  {
   "cell_type": "code",
   "execution_count": 4,
   "metadata": {},
   "outputs": [],
   "source": [
    "import os\n",
    "import sys\n",
    "nb_dir = os.path.split(os.getcwd())[0]\n",
    "if nb_dir not in sys.path:\n",
    "    sys.path.append(nb_dir)"
   ]
  },
  {
   "cell_type": "code",
   "execution_count": 5,
   "metadata": {},
   "outputs": [],
   "source": [
    "import pandas as pd\n",
    "import flora_tools.lwb_slot as lwb_slot\n",
    "from flora_tools.lwb_slot import LWBSlot\n",
    "\n",
    "payloads = [8, 16, 32, 64, 128, 255]\n",
    "\n",
    "payload_strings = [str(i) for i in payloads]"
   ]
  },
  {
   "cell_type": "markdown",
   "metadata": {},
   "source": [
    "## Ack Slot Formula"
   ]
  },
  {
   "cell_type": "markdown",
   "metadata": {},
   "source": [
    "#### Glossy without adaptions:\n",
    "\n",
    "$$ E_\\mathrm{Total} = N \\cdot r \\cdot (E_\\mathrm{Rx} + E_\\mathrm{Tx}) - E_\\mathrm{Rx} $$\n",
    "\n",
    "$$ E_\\mathrm{Total} = N \\cdot r \\cdot (\\frac{N \\cdot r - 1}{N \\cdot r} E_\\mathrm{Rx} + E_\\mathrm{Tx}) $$\n",
    "\n",
    "where $r$ is the retransmission rate and $N$ is the number of nodes. The preamble detection power is not accounted for.\n",
    "\n",
    "#### Glossy with ACK\n",
    "\n",
    "Given \n",
    "\n",
    "$$ E_\\mathrm{Rx,Ack} = \\alpha \\cdot E_\\mathrm{Rx} $$\n",
    "\n",
    "and\n",
    "\n",
    "$$ E_\\mathrm{Tx,Ack} = \\alpha \\cdot E_\\mathrm{Tx} $$\n",
    "\n",
    "and assuming that all packages receive their destined nodes at the first chance. The acknowledgement is only resent once after its reception.\n",
    "\n",
    "We consider each node $n_i$ by itself. The crucial term for describing when a node $n_i$ is interrupted by the Ack is given by the difference in arrival time of the source's package and the destination's Ack ($l$ for latency):\n",
    "\n",
    "$$ l(n_i) = \\max(0, (d(n_\\text{src}, n_\\text{dst}) - 1) + \\max(d(n_\\text{dst}, n_i), 1) - (d(n_\\text{src}, n_i) - 1)) \\\\\n",
    "= \\max(0, d(n_\\text{src}, n_\\text{dst}) + \\max(d(n_\\text{dst}, n_i), 1) - d(n_\\text{src}, n_i))$$\n",
    "\n",
    "The upper bound total slot count can be approximated by\n",
    "\n",
    "$$ |S_{\\mathrm{Rx}_{n_i}}| = \\min(\\text{ceil}(\\frac{l(n_i)}{2}), r) $$\n",
    "\n",
    "$$ |S_{\\mathrm{Tx}_{n_i}}| = \\text{floor}(\\frac{l(n_i)}{2}) $$\n",
    "\n",
    "$$ |S_{\\mathrm{Tx,Ack}_{n_i}}| = H( 2 \\cdot r - l(n_i) - 1) $$\n",
    "\n",
    "$$ |S_{\\mathrm{Rx,Ack}_{n_i}}| = H( 2 \\cdot r - l(n_i) - 2) $$\n",
    "\n",
    "where $H(x)$ is the Heaviside function.\n",
    "\n",
    "Special adaptions for a better approximation are the source node itself which has one Rx slot less and therefore has to be regarded seperately in the summation. If a node has a precessor which was acked directly after a Rx slot, the regarding child node will save one Rx slot.\n",
    "\n",
    "\n",
    "$$ E_\\mathrm{Total} = \\sum_{n_i} ( |S_{\\mathrm{Rx}_{n_i}}| \\cdot E_\\mathrm{Rx}\\\\\n",
    "+ |S_{\\mathrm{Tx}_{n_i}}| \\cdot E_\\mathrm{Tx}\\\\\n",
    "+ |S_{\\mathrm{Rx,Ack}_{n_i}}| \\cdot E_\\mathrm{Rx,Ack}\\\\\n",
    "+ |S_{\\mathrm{Tx,Ack}_{n_i}}| \\cdot E_\\mathrm{Tx,Ack} )\\\\\n",
    "- E_\\mathrm{Rx}$$\n",
    "\n",
    "\n",
    "##### Complete Graph Topology (best case)\n",
    "\n",
    "Every node reaches every other node in one hop.\n",
    "\n",
    "$$ E_\\mathrm{Total} = E_\\mathrm{Tx} + (N - 1) \\cdot E_\\mathrm{Rx} + E_\\mathrm{Tx-Ack} + (N - 1) \\cdot E_\\mathrm{Rx-Ack}\\\\\n",
    "= (1 + \\alpha) \\cdot E_\\mathrm{Tx} + (1 + \\alpha) \\cdot (N - 1) \\cdot E_\\mathrm{Rx}$$\n",
    "\n",
    "##### No reception of ACK (worst case)\n",
    "\n",
    "The target node receives the message, but its Acknowledgement does not get received by any node. All other $N - 1$ nodes therefore retransmit the package wastefuly.\n",
    "\n",
    "$$ E_\\mathrm{Total} = (N - 1) \\cdot r \\cdot (E_\\mathrm{Rx} + E_\\mathrm{Tx} + 2 \\cdot E_\\mathrm{Ack_\\mathrm{Rx}}) - (E_\\mathrm{Rx} + E_\\mathrm{Ack_\\mathrm{Rx}})\\\\\n",
    "+ (E_\\mathrm{Rx} + E_\\mathrm{Ack_\\mathrm{Tx}}) $$\n",
    "\n",
    "$$ = (N - 1) \\cdot r \\cdot ((1 + 2\\alpha - \\frac{\\alpha}{(N-1)r}) \\cdot E_\\mathrm{Rx} + (1 + \\frac{\\alpha}{(N-1)r}) \\cdot E_\\mathrm{Tx}) $$\n",
    "\n",
    "For high node counts, worst case and vanilla Glossy converge, with the Acknowledgements having $2\\alpha$ overhead."
   ]
  },
  {
   "cell_type": "code",
   "execution_count": 6,
   "metadata": {},
   "outputs": [
    {
     "data": {
      "image/png": "[encoded data removed]",
      "text/plain": [
       "<Figure size 432x288 with 1 Axes>"
      ]
     },
     "metadata": {},
     "output_type": "display_data"
    }
   ],
   "source": [
    "import matplotlib.pyplot as plt\n",
    "import networkx as nx\n",
    "\n",
    "G = nx.Graph()\n",
    "\n",
    "plt.figure()\n",
    "\n",
    "G.add_nodes_from([\"Src\", \"Dst\", \"3\", \"4\"])\n",
    "G.add_edges_from([(\"Src\", \"Dst\"), (\"Src\", \"3\"), (\"Dst\", \"3\"), (\"3\", \"4\")])\n",
    "\n",
    "nx.draw(G, with_labels=True)\n",
    "\n",
    "plt.show()"
   ]
  },
  {
   "cell_type": "markdown",
   "metadata": {},
   "source": [
    "Node 4 will not require a Rx slot."
   ]
  },
  {
   "cell_type": "code",
   "execution_count": 14,
   "metadata": {},
   "outputs": [
    {
     "data": {
      "text/html": [
       "<style  type=\"text/css\" >\n",
       "</style>  \n",
       "<table id=\"T_99d67f5a_ac5d_11e8_90d5_9c5c8e85f627\" > \n",
       "<thead>    <tr> \n",
       "        <th class=\"blank level0\" ></th> \n",
       "        <th class=\"col_heading level0 col0\" >Gloria Modulation</th> \n",
       "        <th class=\"col_heading level0 col1\" >8</th> \n",
       "        <th class=\"col_heading level0 col2\" >16</th> \n",
       "        <th class=\"col_heading level0 col3\" >32</th> \n",
       "        <th class=\"col_heading level0 col4\" >64</th> \n",
       "        <th class=\"col_heading level0 col5\" >128</th> \n",
       "        <th class=\"col_heading level0 col6\" >255</th> \n",
       "    </tr></thead> \n",
       "<tbody>    <tr> \n",
       "        <th id=\"T_99d67f5a_ac5d_11e8_90d5_9c5c8e85f627level0_row0\" class=\"row_heading level0 row0\" >0</th> \n",
       "        <td id=\"T_99d67f5a_ac5d_11e8_90d5_9c5c8e85f627row0_col0\" class=\"data row0 col0\" >3</td> \n",
       "        <td id=\"T_99d67f5a_ac5d_11e8_90d5_9c5c8e85f627row0_col1\" class=\"data row0 col1\" >0.19924</td> \n",
       "        <td id=\"T_99d67f5a_ac5d_11e8_90d5_9c5c8e85f627row0_col2\" class=\"data row0 col2\" >0.2402</td> \n",
       "        <td id=\"T_99d67f5a_ac5d_11e8_90d5_9c5c8e85f627row0_col3\" class=\"data row0 col3\" >0.32212</td> \n",
       "        <td id=\"T_99d67f5a_ac5d_11e8_90d5_9c5c8e85f627row0_col4\" class=\"data row0 col4\" >0.46548</td> \n",
       "        <td id=\"T_99d67f5a_ac5d_11e8_90d5_9c5c8e85f627row0_col5\" class=\"data row0 col5\" >0.7522</td> \n",
       "        <td id=\"T_99d67f5a_ac5d_11e8_90d5_9c5c8e85f627row0_col6\" class=\"data row0 col6\" >1.32564</td> \n",
       "    </tr>    <tr> \n",
       "        <th id=\"T_99d67f5a_ac5d_11e8_90d5_9c5c8e85f627level0_row1\" class=\"row_heading level0 row1\" >1</th> \n",
       "        <td id=\"T_99d67f5a_ac5d_11e8_90d5_9c5c8e85f627row1_col0\" class=\"data row1 col0\" >5</td> \n",
       "        <td id=\"T_99d67f5a_ac5d_11e8_90d5_9c5c8e85f627row1_col1\" class=\"data row1 col1\" >0.0573488</td> \n",
       "        <td id=\"T_99d67f5a_ac5d_11e8_90d5_9c5c8e85f627row1_col2\" class=\"data row1 col2\" >0.0727088</td> \n",
       "        <td id=\"T_99d67f5a_ac5d_11e8_90d5_9c5c8e85f627row1_col3\" class=\"data row1 col3\" >0.0931888</td> \n",
       "        <td id=\"T_99d67f5a_ac5d_11e8_90d5_9c5c8e85f627row1_col4\" class=\"data row1 col4\" >0.139269</td> \n",
       "        <td id=\"T_99d67f5a_ac5d_11e8_90d5_9c5c8e85f627row1_col5\" class=\"data row1 col5\" >0.236549</td> \n",
       "        <td id=\"T_99d67f5a_ac5d_11e8_90d5_9c5c8e85f627row1_col6\" class=\"data row1 col6\" >0.420869</td> \n",
       "    </tr>    <tr> \n",
       "        <th id=\"T_99d67f5a_ac5d_11e8_90d5_9c5c8e85f627level0_row2\" class=\"row_heading level0 row2\" >2</th> \n",
       "        <td id=\"T_99d67f5a_ac5d_11e8_90d5_9c5c8e85f627row2_col0\" class=\"data row2 col0\" >7</td> \n",
       "        <td id=\"T_99d67f5a_ac5d_11e8_90d5_9c5c8e85f627row2_col1\" class=\"data row2 col1\" >0.0193914</td> \n",
       "        <td id=\"T_99d67f5a_ac5d_11e8_90d5_9c5c8e85f627row2_col2\" class=\"data row2 col2\" >0.0232314</td> \n",
       "        <td id=\"T_99d67f5a_ac5d_11e8_90d5_9c5c8e85f627row2_col3\" class=\"data row2 col3\" >0.0309114</td> \n",
       "        <td id=\"T_99d67f5a_ac5d_11e8_90d5_9c5c8e85f627row2_col4\" class=\"data row2 col4\" >0.0475514</td> \n",
       "        <td id=\"T_99d67f5a_ac5d_11e8_90d5_9c5c8e85f627row2_col5\" class=\"data row2 col5\" >0.0808314</td> \n",
       "        <td id=\"T_99d67f5a_ac5d_11e8_90d5_9c5c8e85f627row2_col6\" class=\"data row2 col6\" >0.146111</td> \n",
       "    </tr>    <tr> \n",
       "        <th id=\"T_99d67f5a_ac5d_11e8_90d5_9c5c8e85f627level0_row3\" class=\"row_heading level0 row3\" >3</th> \n",
       "        <td id=\"T_99d67f5a_ac5d_11e8_90d5_9c5c8e85f627row3_col0\" class=\"data row3 col0\" >9</td> \n",
       "        <td id=\"T_99d67f5a_ac5d_11e8_90d5_9c5c8e85f627row3_col1\" class=\"data row3 col1\" >0.00305338</td> \n",
       "        <td id=\"T_99d67f5a_ac5d_11e8_90d5_9c5c8e85f627row3_col2\" class=\"data row3 col2\" >0.00337338</td> \n",
       "        <td id=\"T_99d67f5a_ac5d_11e8_90d5_9c5c8e85f627row3_col3\" class=\"data row3 col3\" >0.00401338</td> \n",
       "        <td id=\"T_99d67f5a_ac5d_11e8_90d5_9c5c8e85f627row3_col4\" class=\"data row3 col4\" >0.00529338</td> \n",
       "        <td id=\"T_99d67f5a_ac5d_11e8_90d5_9c5c8e85f627row3_col5\" class=\"data row3 col5\" >0.00785338</td> \n",
       "        <td id=\"T_99d67f5a_ac5d_11e8_90d5_9c5c8e85f627row3_col6\" class=\"data row3 col6\" >0.0129334</td> \n",
       "    </tr></tbody> \n",
       "</table> "
      ],
      "text/plain": [
       "<pandas.io.formats.style.Styler at 0x1b950d10d30>"
      ]
     },
     "execution_count": 14,
     "metadata": {},
     "output_type": "execute_result"
    }
   ],
   "source": [
    "columns = [\"Gloria Modulation\"]\n",
    "columns.extend(payload_strings)\n",
    "\n",
    "lwb_slot_time = pd.DataFrame(columns=columns)\n",
    "\n",
    "for i in range(len(lwb_slot.RADIO_MODULATIONS)):\n",
    "    item = [lwb_slot.RADIO_MODULATIONS[i]]\n",
    "    for j in payloads:\n",
    "        slot = LWBSlot.create_empty_slot(i, payload=j, acked=False)\n",
    "        \n",
    "        total_time = slot.flood.slots[0].slot_time\n",
    "        \n",
    "        item.append(total_time)\n",
    "    lwb_slot_time.loc[i] = item\n",
    "\n",
    "lwb_slot_time.style\n"
   ]
  },
  {
   "cell_type": "code",
   "execution_count": 15,
   "metadata": {},
   "outputs": [
    {
     "data": {
      "text/plain": [
       "'\\\\begin{tabular}{lrrrrrrr}\\n\\\\toprule\\n{} &  Gloria Modulation &         8 &        16 &        32 &        64 &       128 &       255 \\\\\\\\\\n\\\\midrule\\n0 &                3.0 &  0.199240 &  0.240200 &  0.322120 &  0.465480 &  0.752200 &  1.325640 \\\\\\\\\\n1 &                5.0 &  0.057349 &  0.072709 &  0.093189 &  0.139269 &  0.236549 &  0.420869 \\\\\\\\\\n2 &                7.0 &  0.019391 &  0.023231 &  0.030911 &  0.047551 &  0.080831 &  0.146111 \\\\\\\\\\n3 &                9.0 &  0.003053 &  0.003373 &  0.004013 &  0.005293 &  0.007853 &  0.012933 \\\\\\\\\\n\\\\bottomrule\\n\\\\end{tabular}\\n'"
      ]
     },
     "execution_count": 15,
     "metadata": {},
     "output_type": "execute_result"
    }
   ],
   "source": [
    "lwb_slot_time.to_latex()"
   ]
  },
  {
   "cell_type": "code",
   "execution_count": 12,
   "metadata": {},
   "outputs": [
    {
     "data": {
      "text/html": [
       "<div>\n",
       "<style scoped>\n",
       "    .dataframe tbody tr th:only-of-type {\n",
       "        vertical-align: middle;\n",
       "    }\n",
       "\n",
       "    .dataframe tbody tr th {\n",
       "        vertical-align: top;\n",
       "    }\n",
       "\n",
       "    .dataframe thead th {\n",
       "        text-align: right;\n",
       "    }\n",
       "</style>\n",
       "<table border=\"1\" class=\"dataframe\">\n",
       "  <thead>\n",
       "    <tr style=\"text-align: right;\">\n",
       "      <th></th>\n",
       "      <th>Gloria Modulation</th>\n",
       "      <th>8</th>\n",
       "      <th>16</th>\n",
       "      <th>32</th>\n",
       "      <th>64</th>\n",
       "      <th>128</th>\n",
       "      <th>255</th>\n",
       "    </tr>\n",
       "  </thead>\n",
       "  <tbody>\n",
       "    <tr>\n",
       "      <th>0</th>\n",
       "      <td>24000000</td>\n",
       "      <td>1701887</td>\n",
       "      <td>2029567</td>\n",
       "      <td>2684927</td>\n",
       "      <td>3831807</td>\n",
       "      <td>6125567</td>\n",
       "      <td>10713087</td>\n",
       "    </tr>\n",
       "    <tr>\n",
       "      <th>1</th>\n",
       "      <td>40000000</td>\n",
       "      <td>1869824</td>\n",
       "      <td>2361344</td>\n",
       "      <td>3016704</td>\n",
       "      <td>4491264</td>\n",
       "      <td>7604223</td>\n",
       "      <td>13502464</td>\n",
       "    </tr>\n",
       "    <tr>\n",
       "      <th>2</th>\n",
       "      <td>56000000</td>\n",
       "      <td>798720</td>\n",
       "      <td>952320</td>\n",
       "      <td>1259520</td>\n",
       "      <td>1925120</td>\n",
       "      <td>3256319</td>\n",
       "      <td>5867520</td>\n",
       "    </tr>\n",
       "    <tr>\n",
       "      <th>3</th>\n",
       "      <td>72000000</td>\n",
       "      <td>137216</td>\n",
       "      <td>149504</td>\n",
       "      <td>176127</td>\n",
       "      <td>227328</td>\n",
       "      <td>329727</td>\n",
       "      <td>532480</td>\n",
       "    </tr>\n",
       "  </tbody>\n",
       "</table>\n",
       "</div>"
      ],
      "text/plain": [
       "   Gloria Modulation        8       16       32       64      128       255\n",
       "0           24000000  1701887  2029567  2684927  3831807  6125567  10713087\n",
       "1           40000000  1869824  2361344  3016704  4491264  7604223  13502464\n",
       "2           56000000   798720   952320  1259520  1925120  3256319   5867520\n",
       "3           72000000   137216   149504   176127   227328   329727    532480"
      ]
     },
     "execution_count": 12,
     "metadata": {},
     "output_type": "execute_result"
    }
   ],
   "source": [
    "to_timer_ticks = lambda x: int(x * 8E6)\n",
    "\n",
    "lwb_slot_time.applymap(to_timer_ticks)"
   ]
  },
  {
   "cell_type": "markdown",
   "metadata": {},
   "source": [
    "### Gloria Flood Energy"
   ]
  },
  {
   "cell_type": "code",
   "execution_count": 9,
   "metadata": {},
   "outputs": [
    {
     "ename": "AttributeError",
     "evalue": "module 'flora_tools.lwb_slot' has no attribute 'MODULATIONS'",
     "traceback": [
      "\u001b[1;31m---------------------------------------------------------------------------\u001b[0m",
      "\u001b[1;31mAttributeError\u001b[0m                            Traceback (most recent call last)",
      "\u001b[1;32m<ipython-input-9-baff3c85fdfe>\u001b[0m in \u001b[0;36m<module>\u001b[1;34m()\u001b[0m\n\u001b[0;32m      1\u001b[0m \u001b[0mlwb_slot_energy\u001b[0m \u001b[1;33m=\u001b[0m \u001b[0mpd\u001b[0m\u001b[1;33m.\u001b[0m\u001b[0mDataFrame\u001b[0m\u001b[1;33m(\u001b[0m\u001b[0mcolumns\u001b[0m\u001b[1;33m=\u001b[0m\u001b[0mcolumns\u001b[0m\u001b[1;33m)\u001b[0m\u001b[1;33m\u001b[0m\u001b[0m\n\u001b[0;32m      2\u001b[0m \u001b[1;33m\u001b[0m\u001b[0m\n\u001b[1;32m----> 3\u001b[1;33m \u001b[1;32mfor\u001b[0m \u001b[0mi\u001b[0m \u001b[1;32min\u001b[0m \u001b[0mrange\u001b[0m\u001b[1;33m(\u001b[0m\u001b[0mlen\u001b[0m\u001b[1;33m(\u001b[0m\u001b[0mlwb_slot\u001b[0m\u001b[1;33m.\u001b[0m\u001b[0mMODULATIONS\u001b[0m\u001b[1;33m)\u001b[0m\u001b[1;33m)\u001b[0m\u001b[1;33m:\u001b[0m\u001b[1;33m\u001b[0m\u001b[0m\n\u001b[0m\u001b[0;32m      4\u001b[0m     \u001b[0mitem\u001b[0m \u001b[1;33m=\u001b[0m \u001b[1;33m[\u001b[0m\u001b[0mlwb_slot\u001b[0m\u001b[1;33m.\u001b[0m\u001b[0mMODULATIONS\u001b[0m\u001b[1;33m[\u001b[0m\u001b[0mi\u001b[0m\u001b[1;33m]\u001b[0m\u001b[1;33m]\u001b[0m\u001b[1;33m\u001b[0m\u001b[0m\n\u001b[0;32m      5\u001b[0m     \u001b[1;32mfor\u001b[0m \u001b[0mj\u001b[0m \u001b[1;32min\u001b[0m \u001b[0mpayloads\u001b[0m\u001b[1;33m:\u001b[0m\u001b[1;33m\u001b[0m\u001b[0m\n",
      "\u001b[1;31mAttributeError\u001b[0m: module 'flora_tools.lwb_slot' has no attribute 'MODULATIONS'"
     ],
     "output_type": "error"
    }
   ],
   "source": [
    "lwb_slot_energy = pd.DataFrame(columns=columns)\n",
    "\n",
    "for i in range(len(lwb_slot.MODULATIONS)):\n",
    "    item = [lwb_slot.MODULATIONS[i]]\n",
    "    for j in payloads:\n",
    "        slot = LWBSlot.create_empty_slot(i, payload=j, acked=False)\n",
    "        gloria_flood_energy = slot.flood.energy\n",
    "        \n",
    "        item.append(gloria_flood_energy)\n",
    "    lwb_slot_energy.loc[i] = item\n",
    "\n",
    "lwb_slot_energy.style"
   ]
  },
  {
   "cell_type": "code",
   "execution_count": 10,
   "metadata": {},
   "outputs": [
    {
     "data": {
      "text/html": [
       "<div>\n",
       "<style scoped>\n",
       "    .dataframe tbody tr th:only-of-type {\n",
       "        vertical-align: middle;\n",
       "    }\n",
       "\n",
       "    .dataframe tbody tr th {\n",
       "        vertical-align: top;\n",
       "    }\n",
       "\n",
       "    .dataframe thead th {\n",
       "        text-align: right;\n",
       "    }\n",
       "</style>\n",
       "<table border=\"1\" class=\"dataframe\">\n",
       "  <thead>\n",
       "    <tr style=\"text-align: right;\">\n",
       "      <th></th>\n",
       "      <th>Gloria Modulation</th>\n",
       "      <th>8</th>\n",
       "      <th>16</th>\n",
       "      <th>32</th>\n",
       "      <th>64</th>\n",
       "      <th>128</th>\n",
       "      <th>255</th>\n",
       "    </tr>\n",
       "  </thead>\n",
       "  <tbody>\n",
       "    <tr>\n",
       "      <th>0</th>\n",
       "      <td>5.328000e+07</td>\n",
       "      <td>4.651651e+08</td>\n",
       "      <td>7.322907e+08</td>\n",
       "      <td>1.027243e+09</td>\n",
       "      <td>1.349356e+09</td>\n",
       "      <td>1.600252e+09</td>\n",
       "      <td>1.757383e+09</td>\n",
       "    </tr>\n",
       "    <tr>\n",
       "      <th>1</th>\n",
       "      <td>3.196800e+07</td>\n",
       "      <td>3.666056e+08</td>\n",
       "      <td>5.217187e+08</td>\n",
       "      <td>7.536042e+08</td>\n",
       "      <td>9.275259e+08</td>\n",
       "      <td>1.023789e+09</td>\n",
       "      <td>1.103044e+09</td>\n",
       "    </tr>\n",
       "    <tr>\n",
       "      <th>2</th>\n",
       "      <td>2.283429e+07</td>\n",
       "      <td>8.425661e+08</td>\n",
       "      <td>1.317702e+09</td>\n",
       "      <td>1.835130e+09</td>\n",
       "      <td>2.213754e+09</td>\n",
       "      <td>2.468393e+09</td>\n",
       "      <td>2.632559e+09</td>\n",
       "    </tr>\n",
       "    <tr>\n",
       "      <th>3</th>\n",
       "      <td>1.776000e+07</td>\n",
       "      <td>5.373238e+09</td>\n",
       "      <td>9.359520e+09</td>\n",
       "      <td>1.487855e+10</td>\n",
       "      <td>2.109938e+10</td>\n",
       "      <td>2.667613e+10</td>\n",
       "      <td>3.071999e+10</td>\n",
       "    </tr>\n",
       "  </tbody>\n",
       "</table>\n",
       "</div>"
      ],
      "text/plain": [
       "   Gloria Modulation             8            16            32            64  \\\n",
       "0       5.328000e+07  4.651651e+08  7.322907e+08  1.027243e+09  1.349356e+09   \n",
       "1       3.196800e+07  3.666056e+08  5.217187e+08  7.536042e+08  9.275259e+08   \n",
       "2       2.283429e+07  8.425661e+08  1.317702e+09  1.835130e+09  2.213754e+09   \n",
       "3       1.776000e+07  5.373238e+09  9.359520e+09  1.487855e+10  2.109938e+10   \n",
       "\n",
       "            128           255  \n",
       "0  1.600252e+09  1.757383e+09  \n",
       "1  1.023789e+09  1.103044e+09  \n",
       "2  2.468393e+09  2.632559e+09  \n",
       "3  2.667613e+10  3.071999e+10  "
      ]
     },
     "execution_count": 10,
     "metadata": {},
     "output_type": "execute_result"
    }
   ],
   "source": [
    "lwb_slot_energy_per_byte = lwb_slot_energy\n",
    "battery_energy = 12000 * 3600 * 3.7 # 12'000 mAh\n",
    "\n",
    "for i in range(len(lwb_slot.MODULATIONS)):\n",
    "    for j in payloads:\n",
    "        lwb_slot_energy_per_byte.loc[i,str(j)] /= j\n",
    "\n",
    "battery_energy / lwb_slot_energy_per_byte"
   ]
  },
  {
   "cell_type": "markdown",
   "metadata": {},
   "source": [
    "## ~ 28 GB of data (FSK 200 kBit/s, 255 Bytes, 12000 mAh @ 3.7 Volts, 10mW TX)\n",
    "\n",
    "32 Byte datapoint:"
   ]
  },
  {
   "cell_type": "code",
   "execution_count": 15,
   "metadata": {},
   "outputs": [
    {
     "data": {
      "text/html": [
       "<div>\n",
       "<style scoped>\n",
       "    .dataframe tbody tr th:only-of-type {\n",
       "        vertical-align: middle;\n",
       "    }\n",
       "\n",
       "    .dataframe tbody tr th {\n",
       "        vertical-align: top;\n",
       "    }\n",
       "\n",
       "    .dataframe thead th {\n",
       "        text-align: right;\n",
       "    }\n",
       "</style>\n",
       "<table border=\"1\" class=\"dataframe\">\n",
       "  <thead>\n",
       "    <tr style=\"text-align: right;\">\n",
       "      <th></th>\n",
       "      <th>Gloria Modulation</th>\n",
       "      <th>8</th>\n",
       "      <th>16</th>\n",
       "      <th>32</th>\n",
       "      <th>64</th>\n",
       "      <th>128</th>\n",
       "      <th>255</th>\n",
       "    </tr>\n",
       "  </thead>\n",
       "  <tbody>\n",
       "    <tr>\n",
       "      <th>0</th>\n",
       "      <td>16650.000000</td>\n",
       "      <td>1.453641e+05</td>\n",
       "      <td>2.288409e+05</td>\n",
       "      <td>3.210134e+05</td>\n",
       "      <td>4.216738e+05</td>\n",
       "      <td>5.000789e+05</td>\n",
       "      <td>5.491823e+05</td>\n",
       "    </tr>\n",
       "    <tr>\n",
       "      <th>1</th>\n",
       "      <td>9990.000000</td>\n",
       "      <td>1.145642e+05</td>\n",
       "      <td>1.630371e+05</td>\n",
       "      <td>2.355013e+05</td>\n",
       "      <td>2.898518e+05</td>\n",
       "      <td>3.199340e+05</td>\n",
       "      <td>3.447013e+05</td>\n",
       "    </tr>\n",
       "    <tr>\n",
       "      <th>2</th>\n",
       "      <td>7135.714286</td>\n",
       "      <td>2.633019e+05</td>\n",
       "      <td>4.117818e+05</td>\n",
       "      <td>5.734783e+05</td>\n",
       "      <td>6.917982e+05</td>\n",
       "      <td>7.713729e+05</td>\n",
       "      <td>8.226746e+05</td>\n",
       "    </tr>\n",
       "    <tr>\n",
       "      <th>3</th>\n",
       "      <td>5550.000000</td>\n",
       "      <td>1.679137e+06</td>\n",
       "      <td>2.924850e+06</td>\n",
       "      <td>4.649546e+06</td>\n",
       "      <td>6.593557e+06</td>\n",
       "      <td>8.336291e+06</td>\n",
       "      <td>9.599997e+06</td>\n",
       "    </tr>\n",
       "  </tbody>\n",
       "</table>\n",
       "</div>"
      ],
      "text/plain": [
       "   Gloria Modulation             8            16            32            64  \\\n",
       "0       16650.000000  1.453641e+05  2.288409e+05  3.210134e+05  4.216738e+05   \n",
       "1        9990.000000  1.145642e+05  1.630371e+05  2.355013e+05  2.898518e+05   \n",
       "2        7135.714286  2.633019e+05  4.117818e+05  5.734783e+05  6.917982e+05   \n",
       "3        5550.000000  1.679137e+06  2.924850e+06  4.649546e+06  6.593557e+06   \n",
       "\n",
       "            128           255  \n",
       "0  5.000789e+05  5.491823e+05  \n",
       "1  3.199340e+05  3.447013e+05  \n",
       "2  7.713729e+05  8.226746e+05  \n",
       "3  8.336291e+06  9.599997e+06  "
      ]
     },
     "execution_count": 15,
     "metadata": {},
     "output_type": "execute_result"
    }
   ],
   "source": [
    "battery_energy / lwb_slot_energy_per_byte / 100 / 32"
   ]
  },
  {
   "cell_type": "markdown",
   "metadata": {},
   "source": [
    "### Speed"
   ]
  },
  {
   "cell_type": "code",
   "execution_count": 12,
   "metadata": {},
   "outputs": [
    {
     "data": {
      "text/html": [
       "<style  type=\"text/css\" >\n",
       "</style>  \n",
       "<table id=\"T_8f47c7be_8a8b_11e8_a1ff_901b0e8d0464\" > \n",
       "<thead>    <tr> \n",
       "        <th class=\"blank level0\" ></th> \n",
       "        <th class=\"col_heading level0 col0\" >Gloria Modulation</th> \n",
       "        <th class=\"col_heading level0 col1\" >8</th> \n",
       "        <th class=\"col_heading level0 col2\" >16</th> \n",
       "        <th class=\"col_heading level0 col3\" >32</th> \n",
       "        <th class=\"col_heading level0 col4\" >64</th> \n",
       "        <th class=\"col_heading level0 col5\" >128</th> \n",
       "        <th class=\"col_heading level0 col6\" >255</th> \n",
       "    </tr></thead> \n",
       "<tbody>    <tr> \n",
       "        <th id=\"T_8f47c7be_8a8b_11e8_a1ff_901b0e8d0464level0_row0\" class=\"row_heading level0 row0\" >0</th> \n",
       "        <td id=\"T_8f47c7be_8a8b_11e8_a1ff_901b0e8d0464row0_col0\" class=\"data row0 col0\" >3</td> \n",
       "        <td id=\"T_8f47c7be_8a8b_11e8_a1ff_901b0e8d0464row0_col1\" class=\"data row0 col1\" >440.814</td> \n",
       "        <td id=\"T_8f47c7be_8a8b_11e8_a1ff_901b0e8d0464row0_col2\" class=\"data row0 col2\" >687.632</td> \n",
       "        <td id=\"T_8f47c7be_8a8b_11e8_a1ff_901b0e8d0464row0_col3\" class=\"data row0 col3\" >954.988</td> \n",
       "        <td id=\"T_8f47c7be_8a8b_11e8_a1ff_901b0e8d0464row0_col4\" class=\"data row0 col4\" >1244.45</td> \n",
       "        <td id=\"T_8f47c7be_8a8b_11e8_a1ff_901b0e8d0464row0_col5\" class=\"data row0 col5\" >1466.74</td> \n",
       "        <td id=\"T_8f47c7be_8a8b_11e8_a1ff_901b0e8d0464row0_col6\" class=\"data row0 col6\" >1604.3</td> \n",
       "    </tr>    <tr> \n",
       "        <th id=\"T_8f47c7be_8a8b_11e8_a1ff_901b0e8d0464level0_row1\" class=\"row_heading level0 row1\" >1</th> \n",
       "        <td id=\"T_8f47c7be_8a8b_11e8_a1ff_901b0e8d0464row1_col0\" class=\"data row1 col0\" >5</td> \n",
       "        <td id=\"T_8f47c7be_8a8b_11e8_a1ff_901b0e8d0464row1_col1\" class=\"data row1 col1\" >381.021</td> \n",
       "        <td id=\"T_8f47c7be_8a8b_11e8_a1ff_901b0e8d0464row1_col2\" class=\"data row1 col2\" >557.953</td> \n",
       "        <td id=\"T_8f47c7be_8a8b_11e8_a1ff_901b0e8d0464row1_col3\" class=\"data row1 col3\" >822.279</td> \n",
       "        <td id=\"T_8f47c7be_8a8b_11e8_a1ff_901b0e8d0464row1_col4\" class=\"data row1 col4\" >1032.99</td> \n",
       "        <td id=\"T_8f47c7be_8a8b_11e8_a1ff_901b0e8d0464row1_col5\" class=\"data row1 col5\" >1157.36</td> \n",
       "        <td id=\"T_8f47c7be_8a8b_11e8_a1ff_901b0e8d0464row1_col6\" class=\"data row1 col6\" >1257.67</td> \n",
       "    </tr>    <tr> \n",
       "        <th id=\"T_8f47c7be_8a8b_11e8_a1ff_901b0e8d0464level0_row2\" class=\"row_heading level0 row2\" >2</th> \n",
       "        <td id=\"T_8f47c7be_8a8b_11e8_a1ff_901b0e8d0464row2_col0\" class=\"data row2 col0\" >7</td> \n",
       "        <td id=\"T_8f47c7be_8a8b_11e8_a1ff_901b0e8d0464row2_col1\" class=\"data row2 col1\" >873.981</td> \n",
       "        <td id=\"T_8f47c7be_8a8b_11e8_a1ff_901b0e8d0464row2_col2\" class=\"data row2 col2\" >1384.86</td> \n",
       "        <td id=\"T_8f47c7be_8a8b_11e8_a1ff_901b0e8d0464row2_col3\" class=\"data row2 col3\" >1956.77</td> \n",
       "        <td id=\"T_8f47c7be_8a8b_11e8_a1ff_901b0e8d0464row2_col4\" class=\"data row2 col4\" >2392.21</td> \n",
       "        <td id=\"T_8f47c7be_8a8b_11e8_a1ff_901b0e8d0464row2_col5\" class=\"data row2 col5\" >2691.7</td> \n",
       "        <td id=\"T_8f47c7be_8a8b_11e8_a1ff_901b0e8d0464row2_col6\" class=\"data row2 col6\" >2886.13</td> \n",
       "    </tr>    <tr> \n",
       "        <th id=\"T_8f47c7be_8a8b_11e8_a1ff_901b0e8d0464level0_row3\" class=\"row_heading level0 row3\" >3</th> \n",
       "        <td id=\"T_8f47c7be_8a8b_11e8_a1ff_901b0e8d0464row3_col0\" class=\"data row3 col0\" >9</td> \n",
       "        <td id=\"T_8f47c7be_8a8b_11e8_a1ff_901b0e8d0464row3_col1\" class=\"data row3 col1\" >4984.32</td> \n",
       "        <td id=\"T_8f47c7be_8a8b_11e8_a1ff_901b0e8d0464row3_col2\" class=\"data row3 col2\" >8864.11</td> \n",
       "        <td id=\"T_8f47c7be_8a8b_11e8_a1ff_901b0e8d0464row3_col3\" class=\"data row3 col3\" >14512.3</td> \n",
       "        <td id=\"T_8f47c7be_8a8b_11e8_a1ff_901b0e8d0464row3_col4\" class=\"data row3 col4\" >21297.6</td> \n",
       "        <td id=\"T_8f47c7be_8a8b_11e8_a1ff_901b0e8d0464row3_col5\" class=\"data row3 col5\" >27795.7</td> \n",
       "        <td id=\"T_8f47c7be_8a8b_11e8_a1ff_901b0e8d0464row3_col6\" class=\"data row3 col6\" >32776.2</td> \n",
       "    </tr></tbody> \n",
       "</table> "
      ],
      "text/plain": [
       "<pandas.io.formats.style.Styler at 0x2410eb5d5f8>"
      ]
     },
     "execution_count": 12,
     "metadata": {},
     "output_type": "execute_result"
    }
   ],
   "source": [
    "lwb_slot_bitrate = pd.DataFrame(columns=columns)\n",
    "\n",
    "for i in range(len(lwb_slot.MODULATIONS)):\n",
    "    item = [lwb_slot.MODULATIONS[i]]\n",
    "    for j in payloads:\n",
    "        slot = LWBSlot.create_empty_slot(i, payload=j, acked=False)\n",
    "        gloria_flood_bitrate = slot.flood.bitrate\n",
    "        \n",
    "        item.append(gloria_flood_bitrate)\n",
    "    lwb_slot_bitrate.loc[i] = item\n",
    "\n",
    "lwb_slot_bitrate.style"
   ]
  },
  {
   "cell_type": "markdown",
   "metadata": {},
   "source": [
    "## Gloria Slot + Gloria ACK Timings"
   ]
  },
  {
   "cell_type": "code",
   "execution_count": 13,
   "metadata": {},
   "outputs": [
    {
     "data": {
      "text/html": [
       "<style  type=\"text/css\" >\n",
       "</style>  \n",
       "<table id=\"T_8f4bbfd2_8a8b_11e8_96c6_901b0e8d0464\" > \n",
       "<thead>    <tr> \n",
       "        <th class=\"blank level0\" ></th> \n",
       "        <th class=\"col_heading level0 col0\" >Gloria Modulation</th> \n",
       "        <th class=\"col_heading level0 col1\" >8</th> \n",
       "        <th class=\"col_heading level0 col2\" >16</th> \n",
       "        <th class=\"col_heading level0 col3\" >32</th> \n",
       "        <th class=\"col_heading level0 col4\" >64</th> \n",
       "        <th class=\"col_heading level0 col5\" >128</th> \n",
       "        <th class=\"col_heading level0 col6\" >255</th> \n",
       "    </tr></thead> \n",
       "<tbody>    <tr> \n",
       "        <th id=\"T_8f4bbfd2_8a8b_11e8_96c6_901b0e8d0464level0_row0\" class=\"row_heading level0 row0\" >0</th> \n",
       "        <td id=\"T_8f4bbfd2_8a8b_11e8_96c6_901b0e8d0464row0_col0\" class=\"data row0 col0\" >3</td> \n",
       "        <td id=\"T_8f4bbfd2_8a8b_11e8_96c6_901b0e8d0464row0_col1\" class=\"data row0 col1\" >0.151065</td> \n",
       "        <td id=\"T_8f4bbfd2_8a8b_11e8_96c6_901b0e8d0464row0_col2\" class=\"data row0 col2\" >0.192025</td> \n",
       "        <td id=\"T_8f4bbfd2_8a8b_11e8_96c6_901b0e8d0464row0_col3\" class=\"data row0 col3\" >0.273945</td> \n",
       "        <td id=\"T_8f4bbfd2_8a8b_11e8_96c6_901b0e8d0464row0_col4\" class=\"data row0 col4\" >0.417305</td> \n",
       "        <td id=\"T_8f4bbfd2_8a8b_11e8_96c6_901b0e8d0464row0_col5\" class=\"data row0 col5\" >0.704025</td> \n",
       "        <td id=\"T_8f4bbfd2_8a8b_11e8_96c6_901b0e8d0464row0_col6\" class=\"data row0 col6\" >1.27746</td> \n",
       "    </tr>    <tr> \n",
       "        <th id=\"T_8f4bbfd2_8a8b_11e8_96c6_901b0e8d0464level0_row1\" class=\"row_heading level0 row1\" >1</th> \n",
       "        <td id=\"T_8f4bbfd2_8a8b_11e8_96c6_901b0e8d0464row1_col0\" class=\"data row1 col0\" >5</td> \n",
       "        <td id=\"T_8f4bbfd2_8a8b_11e8_96c6_901b0e8d0464row1_col1\" class=\"data row1 col1\" >0.281355</td> \n",
       "        <td id=\"T_8f4bbfd2_8a8b_11e8_96c6_901b0e8d0464row1_col2\" class=\"data row1 col2\" >0.342795</td> \n",
       "        <td id=\"T_8f4bbfd2_8a8b_11e8_96c6_901b0e8d0464row1_col3\" class=\"data row1 col3\" >0.424715</td> \n",
       "        <td id=\"T_8f4bbfd2_8a8b_11e8_96c6_901b0e8d0464row1_col4\" class=\"data row1 col4\" >0.609035</td> \n",
       "        <td id=\"T_8f4bbfd2_8a8b_11e8_96c6_901b0e8d0464row1_col5\" class=\"data row1 col5\" >0.998155</td> \n",
       "        <td id=\"T_8f4bbfd2_8a8b_11e8_96c6_901b0e8d0464row1_col6\" class=\"data row1 col6\" >1.73544</td> \n",
       "    </tr>    <tr> \n",
       "        <th id=\"T_8f4bbfd2_8a8b_11e8_96c6_901b0e8d0464level0_row2\" class=\"row_heading level0 row2\" >2</th> \n",
       "        <td id=\"T_8f4bbfd2_8a8b_11e8_96c6_901b0e8d0464row2_col0\" class=\"data row2 col0\" >7</td> \n",
       "        <td id=\"T_8f4bbfd2_8a8b_11e8_96c6_901b0e8d0464row2_col1\" class=\"data row2 col1\" >0.1162</td> \n",
       "        <td id=\"T_8f4bbfd2_8a8b_11e8_96c6_901b0e8d0464row2_col2\" class=\"data row2 col2\" >0.1354</td> \n",
       "        <td id=\"T_8f4bbfd2_8a8b_11e8_96c6_901b0e8d0464row2_col3\" class=\"data row2 col3\" >0.1738</td> \n",
       "        <td id=\"T_8f4bbfd2_8a8b_11e8_96c6_901b0e8d0464row2_col4\" class=\"data row2 col4\" >0.257</td> \n",
       "        <td id=\"T_8f4bbfd2_8a8b_11e8_96c6_901b0e8d0464row2_col5\" class=\"data row2 col5\" >0.4234</td> \n",
       "        <td id=\"T_8f4bbfd2_8a8b_11e8_96c6_901b0e8d0464row2_col6\" class=\"data row2 col6\" >0.7498</td> \n",
       "    </tr>    <tr> \n",
       "        <th id=\"T_8f4bbfd2_8a8b_11e8_96c6_901b0e8d0464level0_row3\" class=\"row_heading level0 row3\" >3</th> \n",
       "        <td id=\"T_8f4bbfd2_8a8b_11e8_96c6_901b0e8d0464row3_col0\" class=\"data row3 col0\" >9</td> \n",
       "        <td id=\"T_8f4bbfd2_8a8b_11e8_96c6_901b0e8d0464row3_col1\" class=\"data row3 col1\" >0.0199804</td> \n",
       "        <td id=\"T_8f4bbfd2_8a8b_11e8_96c6_901b0e8d0464row3_col2\" class=\"data row3 col2\" >0.0215804</td> \n",
       "        <td id=\"T_8f4bbfd2_8a8b_11e8_96c6_901b0e8d0464row3_col3\" class=\"data row3 col3\" >0.0247804</td> \n",
       "        <td id=\"T_8f4bbfd2_8a8b_11e8_96c6_901b0e8d0464row3_col4\" class=\"data row3 col4\" >0.0311804</td> \n",
       "        <td id=\"T_8f4bbfd2_8a8b_11e8_96c6_901b0e8d0464row3_col5\" class=\"data row3 col5\" >0.0439804</td> \n",
       "        <td id=\"T_8f4bbfd2_8a8b_11e8_96c6_901b0e8d0464row3_col6\" class=\"data row3 col6\" >0.0693804</td> \n",
       "    </tr></tbody> \n",
       "</table> "
      ],
      "text/plain": [
       "<pandas.io.formats.style.Styler at 0x2410eb97e10>"
      ]
     },
     "execution_count": 13,
     "metadata": {},
     "output_type": "execute_result"
    }
   ],
   "source": [
    "columns = [\"Gloria Modulation\"]\n",
    "columns.extend(payload_strings)\n",
    "\n",
    "lwb_slot_time = pd.DataFrame(columns=columns)\n",
    "\n",
    "for i in range(len(lwb_slot.MODULATIONS)):\n",
    "    item = [lwb_slot.MODULATIONS[i]]\n",
    "    for j in payloads:\n",
    "        slot = LWBSlot.create_empty_slot(i, payload=j, acked=True)\n",
    "        \n",
    "        total_time = slot.total_time\n",
    "        \n",
    "        item.append(total_time)\n",
    "    lwb_slot_time.loc[i] = item\n",
    "\n",
    "lwb_slot_time.style\n"
   ]
  },
  {
   "cell_type": "code",
   "execution_count": 14,
   "metadata": {},
   "outputs": [
    {
     "data": {
      "text/html": [
       "<div>\n",
       "<style scoped>\n",
       "    .dataframe tbody tr th:only-of-type {\n",
       "        vertical-align: middle;\n",
       "    }\n",
       "\n",
       "    .dataframe tbody tr th {\n",
       "        vertical-align: top;\n",
       "    }\n",
       "\n",
       "    .dataframe thead th {\n",
       "        text-align: right;\n",
       "    }\n",
       "</style>\n",
       "<table border=\"1\" class=\"dataframe\">\n",
       "  <thead>\n",
       "    <tr style=\"text-align: right;\">\n",
       "      <th></th>\n",
       "      <th>Gloria Modulation</th>\n",
       "      <th>8</th>\n",
       "      <th>16</th>\n",
       "      <th>32</th>\n",
       "      <th>64</th>\n",
       "      <th>128</th>\n",
       "      <th>255</th>\n",
       "    </tr>\n",
       "  </thead>\n",
       "  <tbody>\n",
       "    <tr>\n",
       "      <th>0</th>\n",
       "      <td>24000000</td>\n",
       "      <td>1208516</td>\n",
       "      <td>1536196</td>\n",
       "      <td>2191556</td>\n",
       "      <td>3338436</td>\n",
       "      <td>5632196</td>\n",
       "      <td>10219716</td>\n",
       "    </tr>\n",
       "    <tr>\n",
       "      <th>1</th>\n",
       "      <td>40000000</td>\n",
       "      <td>2250842</td>\n",
       "      <td>2742362</td>\n",
       "      <td>3397722</td>\n",
       "      <td>4872282</td>\n",
       "      <td>7985242</td>\n",
       "      <td>13883482</td>\n",
       "    </tr>\n",
       "    <tr>\n",
       "      <th>2</th>\n",
       "      <td>56000000</td>\n",
       "      <td>929603</td>\n",
       "      <td>1083203</td>\n",
       "      <td>1390403</td>\n",
       "      <td>2056003</td>\n",
       "      <td>3387203</td>\n",
       "      <td>5998403</td>\n",
       "    </tr>\n",
       "    <tr>\n",
       "      <th>3</th>\n",
       "      <td>72000000</td>\n",
       "      <td>159843</td>\n",
       "      <td>172643</td>\n",
       "      <td>198243</td>\n",
       "      <td>249443</td>\n",
       "      <td>351843</td>\n",
       "      <td>555043</td>\n",
       "    </tr>\n",
       "  </tbody>\n",
       "</table>\n",
       "</div>"
      ],
      "text/plain": [
       "   Gloria Modulation        8       16       32       64      128       255\n",
       "0           24000000  1208516  1536196  2191556  3338436  5632196  10219716\n",
       "1           40000000  2250842  2742362  3397722  4872282  7985242  13883482\n",
       "2           56000000   929603  1083203  1390403  2056003  3387203   5998403\n",
       "3           72000000   159843   172643   198243   249443   351843    555043"
      ]
     },
     "execution_count": 14,
     "metadata": {},
     "output_type": "execute_result"
    }
   ],
   "source": [
    "to_timer_ticks = lambda x: int(x * 8E6)\n",
    "\n",
    "lwb_slot_time.applymap(to_timer_ticks)"
   ]
  },
  {
   "cell_type": "code",
   "execution_count": null,
   "metadata": {},
   "outputs": [],
   "source": []
  }
 ],
 "metadata": {
  "kernelspec": {
   "display_name": "Python 3",
   "language": "python",
   "name": "python3"
  },
  "language_info": {
   "codemirror_mode": {
    "name": "ipython",
    "version": 3
   },
   "file_extension": ".py",
   "mimetype": "text/x-python",
   "name": "python",
   "nbconvert_exporter": "python",
   "pygments_lexer": "ipython3",
   "version": "3.7.0"
  }
 },
 "nbformat": 4,
 "nbformat_minor": 2
}
