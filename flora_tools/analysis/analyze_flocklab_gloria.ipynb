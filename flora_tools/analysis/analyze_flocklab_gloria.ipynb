{
 "cells": [
  {
   "cell_type": "code",
   "execution_count": 1,
   "metadata": {},
   "outputs": [],
   "source": [
    "%load_ext autoreload"
   ]
  },
  {
   "cell_type": "code",
   "execution_count": 2,
   "metadata": {},
   "outputs": [],
   "source": [
    "%matplotlib inline"
   ]
  },
  {
   "cell_type": "code",
   "execution_count": 3,
   "metadata": {},
   "outputs": [],
   "source": [
    "%autoreload"
   ]
  },
  {
   "cell_type": "code",
   "execution_count": 4,
   "metadata": {},
   "outputs": [],
   "source": [
    "import os\n",
    "import sys\n",
    "nb_dir = os.path.split(os.getcwd())[0]\n",
    "if nb_dir not in sys.path:\n",
    "    sys.path.append(nb_dir)\n",
    "    \n",
    "import pandas as pd"
   ]
  },
  {
   "cell_type": "code",
   "execution_count": 5,
   "metadata": {
    "scrolled": true
   },
   "outputs": [
    {
     "ename": "FileNotFoundError",
     "evalue": "[Errno 2] No such file or directory: '../../data/MeasureFlockLabGloria_serial.csv'",
     "output_type": "error",
     "traceback": [
      "\u001b[1;31m---------------------------------------------------------------------------\u001b[0m",
      "\u001b[1;31mFileNotFoundError\u001b[0m                         Traceback (most recent call last)",
      "\u001b[1;32m<ipython-input-5-026b6551ac76>\u001b[0m in \u001b[0;36m<module>\u001b[1;34m()\u001b[0m\n\u001b[0;32m      1\u001b[0m \u001b[1;32mfrom\u001b[0m \u001b[0mflora_tools\u001b[0m\u001b[1;33m.\u001b[0m\u001b[0mflocklab\u001b[0m\u001b[1;33m.\u001b[0m\u001b[0mflocklab\u001b[0m \u001b[1;32mimport\u001b[0m \u001b[0mFlockLab\u001b[0m\u001b[1;33m\u001b[0m\u001b[0m\n\u001b[0;32m      2\u001b[0m \u001b[1;33m\u001b[0m\u001b[0m\n\u001b[1;32m----> 3\u001b[1;33m \u001b[0mlogs\u001b[0m \u001b[1;33m=\u001b[0m \u001b[0mFlockLab\u001b[0m\u001b[1;33m.\u001b[0m\u001b[0mparse_serial_log\u001b[0m\u001b[1;33m(\u001b[0m\u001b[1;34m\"../../data/MeasureFlockLabGloria_serial.csv\"\u001b[0m\u001b[1;33m)\u001b[0m\u001b[1;33m\u001b[0m\u001b[0m\n\u001b[0m",
      "\u001b[1;32m~\\PycharmProjects\\flora_tools\\flora_tools\\flocklab\\flocklab.py\u001b[0m in \u001b[0;36mparse_serial_log\u001b[1;34m(file)\u001b[0m\n\u001b[0;32m    144\u001b[0m     \u001b[1;33m@\u001b[0m\u001b[0mstaticmethod\u001b[0m\u001b[1;33m\u001b[0m\u001b[0m\n\u001b[0;32m    145\u001b[0m     \u001b[1;32mdef\u001b[0m \u001b[0mparse_serial_log\u001b[0m\u001b[1;33m(\u001b[0m\u001b[0mfile\u001b[0m\u001b[1;33m)\u001b[0m\u001b[1;33m:\u001b[0m\u001b[1;33m\u001b[0m\u001b[0m\n\u001b[1;32m--> 146\u001b[1;33m         \u001b[1;32mwith\u001b[0m \u001b[0mopen\u001b[0m\u001b[1;33m(\u001b[0m\u001b[0mfile\u001b[0m\u001b[1;33m)\u001b[0m \u001b[1;32mas\u001b[0m \u001b[0mf\u001b[0m\u001b[1;33m:\u001b[0m\u001b[1;33m\u001b[0m\u001b[0m\n\u001b[0m\u001b[0;32m    147\u001b[0m             \u001b[0mlines\u001b[0m \u001b[1;33m=\u001b[0m \u001b[0mf\u001b[0m\u001b[1;33m.\u001b[0m\u001b[0mreadlines\u001b[0m\u001b[1;33m(\u001b[0m\u001b[1;33m)\u001b[0m\u001b[1;33m\u001b[0m\u001b[0m\n\u001b[0;32m    148\u001b[0m \u001b[1;33m\u001b[0m\u001b[0m\n",
      "\u001b[1;31mFileNotFoundError\u001b[0m: [Errno 2] No such file or directory: '../../data/MeasureFlockLabGloria_serial.csv'"
     ]
    }
   ],
   "source": [
    "from flora_tools.flocklab.flocklab import FlockLab\n",
    "\n",
    "logs = FlockLab.parse_serial_log(\"../../data/MeasureFlockLabGloria_serial.csv\")"
   ]
  },
  {
   "cell_type": "code",
   "execution_count": 6,
   "metadata": {},
   "outputs": [],
   "source": [
    "%autoreload"
   ]
  },
  {
   "cell_type": "code",
   "execution_count": 7,
   "metadata": {},
   "outputs": [
    {
     "name": "stdout",
     "output_type": "stream",
     "text": [
      "17800@1,17900@1,18000@1,18100@1,18200@1,18300@1,18400@1,18600@1,18700@1,18900@1,19000@1,78300@1,78600@1,78700@1,78900@1,79000@1,79100@1,79200@1,79300@1,79400@1,79500@1,79600@1,79700@1,80000@1,80200@1,80500@1,80600@1,80700@1,80800@1,80900@1,81000@1,81200@1,81300@1,81400@1,81600@1,94000@1,94100@1,94500@1,94600@1,95000@1,95100@1,95200@1,2000@3,2100@3,2600@3,2800@3,2900@3,3000@3,3200@3,3300@3,3500@3,56900@3,57000@3,57100@3,57200@3,57300@3,57400@3,57500@3,57600@3,58100@3,58300@3,58400@3,58900@3,59000@3,59100@3,59300@3,59500@3,59700@3,59800@3,59900@3,60100@3,60200@3,96600@3,96700@3,96800@3,97200@3,97300@3,97400@3,97500@3,97800@3,105300@3,10500@4,10700@4,11100@4,11200@4,11300@4,11400@4,11500@4,11600@4,11700@4,11900@4,12000@4,71300@4,71700@4,71800@4,71900@4,72100@4,72200@4,72300@4,72400@4,72700@4,72800@4,72900@4,73100@4,73300@4,73400@4,73500@4,73600@4,73700@4,73900@4,74000@4,74100@4,74200@4,74300@4,74400@4,74500@4,74600@4,101600@4,101900@4,102100@4,102300@4,102500@4,102600@4,102700@4,102800@4,102900@4,105400@4,5500@8,5800@8,6100@8,6400@8,6800@8,6900@8,74900@8,75000@8,75100@8,75200@8,75400@8,75500@8,75700@8,75800@8,76100@8,76400@8,76600@8,76800@8,76900@8,77000@8,77400@8,77700@8,77800@8,77900@8,78000@8,92800@8,93200@8,93500@8,93600@8,93700@8,93800@8,93900@8,105600@8,105900@8,106300@8,7000@10,7100@10,7500@10,7600@10,7700@10,7900@10,8100@10,8200@10,8300@10,46300@10,46400@10,46700@10,46900@10,47100@10,47400@10,47600@10,47700@10,47800@10,48300@10,48600@10,48700@10,49000@10,49200@10,49400@10,86500@10,86600@10,86700@10,86800@10,87000@10,87200@10,87400@10,87600@10,87700@10,106100@10,23000@13,23100@13,23300@13,23500@13,23600@13,23800@13,23900@13,24000@13,24100@13,24300@13,24400@13,24500@13,35400@13,35500@13,35600@13,35700@13,35800@13,36000@13,36200@13,36300@13,36400@13,36500@13,36600@13,36700@13,36900@13,37100@13,37200@13,37300@13,37700@13,37800@13,37900@13,38200@13,38300@13,38400@13,38500@13,38700@13,85300@13,85400@13,85500@13,85600@13,85800@13,85900@13,86200@13,86300@13,86400@13,8700@15,8800@15,9100@15,9200@15,9300@15,9400@15,9500@15,9600@15,9800@15,10000@15,10100@15,10200@15,64100@15,64200@15,64300@15,64400@15,64600@15,64700@15,64800@15,64900@15,65000@15,65200@15,65300@15,65400@15,65500@15,65600@15,65800@15,65900@15,66000@15,66200@15,66500@15,66600@15,66700@15,66900@15,67100@15,67300@15,67500@15,95500@15,95700@15,95800@15,95900@15,96000@15,96100@15,96200@15,96300@15,96400@15,96500@15,12200@20,12300@20,12400@20,12700@20,12900@20,13100@20,13600@20,81700@20,81900@20,82000@20,82200@20,82300@20,82400@20,82500@20,82600@20,83100@20,83200@20,83300@20,83400@20,83500@20,83800@20,83900@20,84000@20,84200@20,84300@20,84400@20,84500@20,84800@20,84900@20,85100@20,85200@20,97900@20,98000@20,98100@20,98300@20,98400@20,98700@20,98900@20,99000@20,26500@22,26800@22,26900@22,27000@22,27400@22,27600@22,27800@22,28000@22,49600@22,49700@22,49900@22,50100@22,50200@22,50400@22,50700@22,50800@22,50900@22,51500@22,51700@22,51900@22,52000@22,52300@22,52400@22,52600@22,52800@22,53000@22,90400@22,90500@22,90600@22,90800@22,90900@22,91100@22,91200@22,91300@22,91400@22,14000@23,14200@23,14400@23,14500@23,14900@23,15000@23,15200@23,15300@23,15500@23,28200@23,28300@23,28400@23,28600@23,28900@23,29100@23,29300@23,29400@23,29800@23,30400@23,30600@23,30700@23,30900@23,31100@23,31200@23,31300@23,31400@23,31500@23,31700@23,100700@23,100800@23,100900@23,101000@23,101100@23,101300@23,101500@23,105800@23,3700@24,3800@24,3900@24,4100@24,4200@24,4500@24,5000@24,5100@24,5200@24,39000@24,39100@24,39200@24,39300@24,39400@24,39700@24,39800@24,40000@24,40100@24,40200@24,40300@24,40400@24,40600@24,40900@24,41200@24,41300@24,41400@24,41500@24,41800@24,41900@24,42000@24,42100@24,42300@24,42500@24,87800@24,87900@24,88000@24,88300@24,88400@24,88800@24,24800@25,25000@25,25300@25,26000@25,26100@25,26300@25,53200@25,53300@25,53400@25,53500@25,53700@25,54000@25,54200@25,54400@25,54500@25,54600@25,54700@25,54800@25,55000@25,55400@25,55600@25,56000@25,56200@25,56300@25,56600@25,89000@25,89100@25,89200@25,89300@25,89400@25,89500@25,89700@25,89900@25,90000@25,90100@25,15800@26,15900@26,16000@26,16300@26,16500@26,16600@26,16700@26,16800@26,16900@26,17000@26,31900@26,32000@26,32200@26,32400@26,32500@26,32600@26,32700@26,32800@26,33100@26,33300@26,33500@26,33900@26,34000@26,34200@26,34600@26,35200@26,103000@26,103100@26,103200@26,103400@26,103500@26,103600@26,104000@26,105200@26,0@28,100@28,200@28,300@28,400@28,500@28,800@28,1000@28,1100@28,1200@28,1400@28,1500@28,1600@28,1700@28,60700@28,60800@28,60900@28,61100@28,61600@28,61700@28,61800@28,61900@28,62000@28,62100@28,62200@28,62300@28,62800@28,62900@28,63200@28,63400@28,63700@28,99200@28,99300@28,99500@28,99600@28,99800@28,100100@28,100200@28,100300@28,19100@32,19200@32,19300@32,19600@32,19800@32,19900@32,20100@32,20200@32,20400@32,20700@32,20900@32,42600@32,42700@32,42800@32,43200@32,43300@32,43500@32,43600@32,43700@32,44200@32,44400@32,44600@32,44700@32,45000@32,45100@32,45300@32,45400@32,45500@32,45700@32,104400@32,104500@32,104600@32,104700@32,104800@32,104900@32,105000@32,105100@32,105700@32,106000@32,106200@32,21200@33,21300@33,21500@33,21700@33,21900@33,22000@33,22100@33,22200@33,22300@33,22500@33,22600@33,22700@33,67600@33,67700@33,67800@33,68000@33,68300@33,68400@33,68500@33,68700@33,68900@33,69000@33,69300@33,69400@33,69600@33,69700@33,69900@33,70000@33,70200@33,70500@33,70600@33,70700@33,91500@33,91600@33,91700@33,92300@33,92400@33,92500@33,92600@33,105500@33,"
     ]
    }
   ],
   "source": [
    "from flora_tools.flocklab.measure_gloria import MeasureGloriaExperiment, ITERATIONS\n",
    "receptions = MeasureGloriaExperiment.reconstruct_receptions(logs, \"../../data/MeasureFlockLabGloria_receptions.csv\")"
   ]
  },
  {
   "cell_type": "code",
   "execution_count": 7,
   "metadata": {},
   "outputs": [],
   "source": [
    "receptions = pd.read_csv(\"../../data/MeasureFlockLabGloria_receptions.csv\")"
   ]
  },
  {
   "cell_type": "code",
   "execution_count": 8,
   "metadata": {},
   "outputs": [],
   "source": [
    "%autoreload"
   ]
  },
  {
   "cell_type": "code",
   "execution_count": 9,
   "metadata": {
    "scrolled": false
   },
   "outputs": [
    {
     "data": {
      "application/vnd.jupyter.widget-view+json": {
       "model_id": "218634665ef542bf977cdec7025946f9",
       "version_major": 2,
       "version_minor": 0
      },
      "text/plain": [
       "interactive(children=(Dropdown(description='tx_node', options=(1, 3, 4, 8, 10, 13, 15, 20, 22, 23, 24, 25, 26,…"
      ]
     },
     "metadata": {},
     "output_type": "display_data"
    },
    {
     "data": {
      "text/plain": [
       "<Figure size 1728x1080 with 0 Axes>"
      ]
     },
     "metadata": {},
     "output_type": "display_data"
    }
   ],
   "source": [
    "import matplotlib.pyplot as plt\n",
    "from ipywidgets import interact, interactive, fixed, interact_manual, FloatSlider\n",
    "import ipywidgets as widgets\n",
    "\n",
    "from flora_tools.radio_configuration import RadioConfiguration\n",
    "\n",
    "from flora_tools.flocklab.flocklab import FLOCKLAB_TARGET_ID_LIST\n",
    "from flora_tools.flocklab.measure_gloria import MeasureGloriaExperiment, POWER_LEVELS, POWERS, ITERATIONS\n",
    "from flora_tools.lwb_slot import RADIO_MODULATIONS\n",
    "\n",
    "#RADIO_MODULATIONS = [3, 5, 7, 9]\n",
    "#POWERS = [10, 22]\n",
    "\n",
    "POWERS = [10, 22]\n",
    "\n",
    "NODE_OPTIONS = list(FLOCKLAB_TARGET_ID_LIST)\n",
    "NODE_OPTIONS.append('all')\n",
    "\n",
    "@interact(tx_node=NODE_OPTIONS, \n",
    "          modulation=(0, len(RADIO_MODULATIONS) - 1), \n",
    "          power_level=(0, len(POWERS) - 1), \n",
    "          hop_count=(0, 5),\n",
    "          percentage=FloatSlider(min=0, max=100.0, step=1.0, continuous_update=False))\n",
    "def g(tx_node, modulation=0, power_level=0, hop_count=1, percentage=100.0):\n",
    "    modulation = RADIO_MODULATIONS[modulation]\n",
    "    \n",
    "    config = RadioConfiguration(modulation)\n",
    "    \n",
    "    figure = plt.figure(figsize=[24,15])\n",
    "    plt.suptitle(\"{}, {:d}dBm, {} hops, {}\".format(config.modulation_name, POWERS[power_level], hop_count), fontsize=20)\n",
    "    \n",
    "    MeasureGloriaExperiment.draw_links(receptions, modulation, power_level, hop_count, tx_node=tx_node, percentage=percentage, iterations=1)\n"
   ]
  },
  {
   "cell_type": "code",
   "execution_count": null,
   "metadata": {},
   "outputs": [],
   "source": []
  },
  {
   "cell_type": "code",
   "execution_count": null,
   "metadata": {},
   "outputs": [],
   "source": []
  }
 ],
 "metadata": {
  "kernelspec": {
   "display_name": "Python 3",
   "language": "python",
   "name": "python3"
  },
  "language_info": {
   "codemirror_mode": {
    "name": "ipython",
    "version": 3
   },
   "file_extension": ".py",
   "mimetype": "text/x-python",
   "name": "python",
   "nbconvert_exporter": "python",
   "pygments_lexer": "ipython3",
   "version": "3.7.0"
  }
 },
 "nbformat": 4,
 "nbformat_minor": 1
}
