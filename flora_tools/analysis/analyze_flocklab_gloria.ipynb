{
 "cells": [
  {
   "cell_type": "markdown",
   "metadata": {},
   "source": [
    "# Gloria (no Ack)"
   ]
  },
  {
   "cell_type": "code",
   "execution_count": 25,
   "metadata": {},
   "outputs": [
    {
     "name": "stdout",
     "output_type": "stream",
     "text": [
      "The autoreload extension is already loaded. To reload it, use:\n",
      "  %reload_ext autoreload\n"
     ]
    }
   ],
   "source": [
    "%load_ext autoreload"
   ]
  },
  {
   "cell_type": "code",
   "execution_count": 26,
   "metadata": {},
   "outputs": [],
   "source": [
    "%matplotlib inline"
   ]
  },
  {
   "cell_type": "code",
   "execution_count": 27,
   "metadata": {},
   "outputs": [],
   "source": [
    "%autoreload"
   ]
  },
  {
   "cell_type": "code",
   "execution_count": 28,
   "metadata": {},
   "outputs": [],
   "source": [
    "import os\n",
    "import sys\n",
    "nb_dir = os.path.split(os.getcwd())[0]\n",
    "if nb_dir not in sys.path:\n",
    "    sys.path.append(nb_dir)\n",
    "    \n",
    "import pandas as pd"
   ]
  },
  {
   "cell_type": "code",
   "execution_count": 99,
   "metadata": {
    "scrolled": true
   },
   "outputs": [
    {
     "name": "stdout",
     "output_type": "stream",
     "text": [
      "# lines to process: 23569\n",
      "0,2000,3000,5000,7000,8000,9000,10000,12000,13000,14000,16000,17000,18000,20000,21000,23000,Parsing finished!\n"
     ]
    }
   ],
   "source": [
    "from flora_tools.flocklab.flocklab import FlockLab\n",
    "\n",
    "logs = FlockLab.parse_serial_log(\"../../data/MeasureFlockLabGloria_serial.csv\")"
   ]
  },
  {
   "cell_type": "code",
   "execution_count": 100,
   "metadata": {},
   "outputs": [],
   "source": [
    "%autoreload"
   ]
  },
  {
   "cell_type": "code",
   "execution_count": 101,
   "metadata": {},
   "outputs": [
    {
     "name": "stdout",
     "output_type": "stream",
     "text": [
      "4533@1,4821@1,5121@1,2427@3,5328@3,5546@3,5758@3,12804@4,13118@4,13386@4,3174@8,3456@8,3754@8,14244@10,14510@10,14776@10,3864@13,4126@13,4380@13,2826@15,6862@15,7084@15,7310@15,13411@20,13637@20,13863@20,14093@20,11956@22,12186@22,12412@22,12640@22,8167@23,8391@23,8617@23,8839@23,6038@24,6294@24,6534@24,7476@25,7744@25,7990@25,8974@26,9208@26,9450@26,9680@26,1122@28,10650@28,10854@28,11058@28,11262@28,3074@32,11541@32,11797@32,9705@33,9937@33,10173@33,10407@33,"
     ]
    }
   ],
   "source": [
    "from flora_tools.flocklab.measure_gloria import MeasureGloriaExperiment, ITERATIONS\n",
    "receptions = MeasureGloriaExperiment.reconstruct_receptions(logs, \"../../data/MeasureFlockLabGloria_receptions.csv\")"
   ]
  },
  {
   "cell_type": "code",
   "execution_count": 118,
   "metadata": {},
   "outputs": [],
   "source": [
    "receptions = pd.read_csv(\"../../data/MeasureFlockLabGloria_receptions.csv\")"
   ]
  },
  {
   "cell_type": "code",
   "execution_count": 119,
   "metadata": {},
   "outputs": [],
   "source": [
    "%autoreload"
   ]
  },
  {
   "cell_type": "code",
   "execution_count": 120,
   "metadata": {
    "scrolled": false
   },
   "outputs": [
    {
     "data": {
      "application/vnd.jupyter.widget-view+json": {
       "model_id": "5b09581e2b8b427b92b21bcdf5627c7a",
       "version_major": 2,
       "version_minor": 0
      },
      "text/plain": [
       "interactive(children=(Dropdown(description='tx_node', options=(1, 3, 4, 8, 10, 13, 15, 20, 22, 23, 24, 25, 26,…"
      ]
     },
     "metadata": {},
     "output_type": "display_data"
    }
   ],
   "source": [
    "import matplotlib.pyplot as plt\n",
    "from ipywidgets import interact, interactive, fixed, interact_manual, FloatSlider\n",
    "import ipywidgets as widgets\n",
    "\n",
    "from flora_tools.radio_configuration import RadioConfiguration\n",
    "\n",
    "from flora_tools.flocklab.flocklab import FLOCKLAB_TARGET_ID_LIST\n",
    "from flora_tools.flocklab.measure_gloria import MeasureGloriaExperiment, POWER_LEVELS, POWERS, ITERATIONS\n",
    "from flora_tools.lwb_slot import RADIO_MODULATIONS\n",
    "\n",
    "#RADIO_MODULATIONS = [3, 5, 7, 9]\n",
    "#POWERS = [10, 22]\n",
    "\n",
    "rx_receptions = receptions[receptions.rx_slot >= 0]\n",
    "\n",
    "POWERS = [10, 22]\n",
    "\n",
    "NODE_OPTIONS = list(FLOCKLAB_TARGET_ID_LIST)\n",
    "NODE_OPTIONS.append('all')\n",
    "\n",
    "@interact(tx_node=NODE_OPTIONS, \n",
    "          modulation=(0, len(RADIO_MODULATIONS) - 1), \n",
    "          power_level=(0, len(POWERS) - 1), \n",
    "          hop_count=(0, 5))\n",
    "def g(tx_node, modulation=0, power_level=0, hop_count=1):\n",
    "    modulation = RADIO_MODULATIONS[modulation]\n",
    "    \n",
    "    config = RadioConfiguration(modulation)\n",
    "    \n",
    "    figure = plt.figure(figsize=[24,15])\n",
    "    plt.suptitle(\"{}, {:d}dBm, {} hops\".format(config.modulation_name, POWERS[power_level], hop_count), fontsize=20)\n",
    "    \n",
    "    MeasureGloriaExperiment.draw_links(rx_receptions, modulation, power_level, hop_count, tx_node=tx_node, iterations=3)\n"
   ]
  },
  {
   "cell_type": "markdown",
   "metadata": {},
   "source": [
    "# Gloria with ACK"
   ]
  },
  {
   "cell_type": "code",
   "execution_count": 126,
   "metadata": {
    "scrolled": false
   },
   "outputs": [
    {
     "name": "stdout",
     "output_type": "stream",
     "text": [
      "# lines to process: 26417\n",
      "0,2000,3000,4000,7000,9000,10000,11000,12000,13000,14000,17000,18000,19000,21000,22000,23000,24000,25000,26000,Parsing finished!\n"
     ]
    }
   ],
   "source": [
    "from flora_tools.flocklab.flocklab import FlockLab\n",
    "\n",
    "logs = FlockLab.parse_serial_log(\"../../data/MeasureFlockLabGloriaAck_serial.csv\")\n"
   ]
  },
  {
   "cell_type": "code",
   "execution_count": 127,
   "metadata": {
    "scrolled": false
   },
   "outputs": [
    {
     "name": "stdout",
     "output_type": "stream",
     "text": [
      "3624@1,3878@1,4164@1,2837@3,5821@3,6049@3,6281@3,6513@3,7155@4,13471@8,13757@8,14053@8,11885@10,12205@10,12523@10,440@13,8959@13,9259@13,9434@15,9688@15,9966@15,667@20,12835@20,13103@20,13349@20,1308@22,15316@22,15556@22,15814@22,1988@23,14448@23,14682@23,14936@23,5074@25,5404@25,3100@28,7920@28,8132@28,8370@28,8598@28,3574@32,10444@32,10742@32,11007@33,11250@33,11493@33,11747@33,"
     ]
    }
   ],
   "source": [
    "from flora_tools.flocklab.measure_gloria import MeasureGloriaExperiment, ITERATIONS\n",
    "receptions = MeasureGloriaExperiment.reconstruct_receptions(logs, \"../../data/MeasureFlockLabGloriaAck_receptions.csv\")\n"
   ]
  },
  {
   "cell_type": "code",
   "execution_count": 128,
   "metadata": {},
   "outputs": [],
   "source": [
    "ack_receptions = pd.read_csv(\"../../data/MeasureFlockLabGloriaAck_receptions.csv\")"
   ]
  },
  {
   "cell_type": "code",
   "execution_count": 129,
   "metadata": {},
   "outputs": [],
   "source": [
    "%autoreload"
   ]
  },
  {
   "cell_type": "code",
   "execution_count": 130,
   "metadata": {},
   "outputs": [
    {
     "data": {
      "image/png": "[encoded data removed]",
      "text/plain": [
       "<Figure size 720x576 with 1 Axes>"
      ]
     },
     "metadata": {},
     "output_type": "display_data"
    }
   ],
   "source": [
    "MeasureGloriaExperiment.analyze_tx_count(receptions, ack_receptions)\n"
   ]
  },
  {
   "cell_type": "code",
   "execution_count": null,
   "metadata": {},
   "outputs": [],
   "source": []
  }
 ],
 "metadata": {
  "kernelspec": {
   "display_name": "Python 3",
   "language": "python",
   "name": "python3"
  },
  "language_info": {
   "codemirror_mode": {
    "name": "ipython",
    "version": 3
   },
   "file_extension": ".py",
   "mimetype": "text/x-python",
   "name": "python",
   "nbconvert_exporter": "python",
   "pygments_lexer": "ipython3",
   "version": "3.7.0"
  }
 },
 "nbformat": 4,
 "nbformat_minor": 1
}
